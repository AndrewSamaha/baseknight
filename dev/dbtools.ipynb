{
 "cells": [
  {
   "cell_type": "code",
   "execution_count": 1,
   "id": "c9e60877-cce6-4588-83be-8eb78b87d615",
   "metadata": {},
   "outputs": [
    {
     "name": "stdout",
     "output_type": "stream",
     "text": [
      "Collecting mysql-connector-python\n",
      "  Downloading mysql_connector_python-8.0.27-1commercial-cp39-cp39-manylinux1_x86_64.whl (37.5 MB)\n",
      "     |████████████████████████████████| 37.5 MB 557 kB/s            \n",
      "\u001b[?25hRequirement already satisfied: protobuf>=3.0.0 in /opt/conda/lib/python3.9/site-packages (from mysql-connector-python) (3.18.1)\n",
      "Installing collected packages: mysql-connector-python\n",
      "Successfully installed mysql-connector-python-8.0.27\n"
     ]
    }
   ],
   "source": [
    "!pip install mysql-connector-python"
   ]
  },
  {
   "cell_type": "code",
   "execution_count": 1,
   "id": "e765238f-39c0-4742-94cc-09c63f3a6f4e",
   "metadata": {},
   "outputs": [],
   "source": [
    "%reload_ext autoreload\n",
    "%autoreload 2\n",
    "from importlib import reload\n",
    "import mysql.connector\n",
    "from mysql.connector import errorcode\n",
    "from src.db import DB\n"
   ]
  },
  {
   "cell_type": "code",
   "execution_count": 2,
   "id": "1c9dc747-0b59-4d6c-94bb-e1e9bd23d681",
   "metadata": {},
   "outputs": [],
   "source": [
    "DB_NAME = 'knights'\n",
    "config = {\n",
    "    'user':'root',\n",
    "    'password':'root',\n",
    "    'host':'db',\n",
    "    'port':'3306',\n",
    "#    'database':DB_NAME\n",
    "}"
   ]
  },
  {
   "cell_type": "code",
   "execution_count": 4,
   "id": "20ee727d-1944-47a7-b64d-cb413b684f90",
   "metadata": {},
   "outputs": [
    {
     "name": "stdout",
     "output_type": "stream",
     "text": [
      "Database knights does not exists.\n",
      "Database knights created successfully.\n"
     ]
    }
   ],
   "source": [
    "connection = mysql.connector.connect(**config)\n",
    "cursor = connection.cursor()\n",
    "def create_database(cursor):\n",
    "    try:\n",
    "        cursor.execute(\n",
    "            \"CREATE DATABASE {} DEFAULT CHARACTER SET 'utf8'\".format(DB_NAME))\n",
    "    except mysql.connector.Error as err:\n",
    "        print(\"Failed creating database: {}\".format(err))\n",
    "        exit(1)\n",
    "\n",
    "try:\n",
    "    cursor.execute(\"USE {}\".format(DB_NAME))\n",
    "except mysql.connector.Error as err:\n",
    "    print(\"Database {} does not exists.\".format(DB_NAME))\n",
    "    if err.errno == errorcode.ER_BAD_DB_ERROR:\n",
    "        create_database(cursor)\n",
    "        print(\"Database {} created successfully.\".format(DB_NAME))\n",
    "        connection.database = DB_NAME\n",
    "    else:\n",
    "        print(err)\n",
    "        exit(1)"
   ]
  },
  {
   "cell_type": "code",
   "execution_count": 41,
   "id": "f8514218-fd65-48a2-9257-973ee5f7c453",
   "metadata": {},
   "outputs": [],
   "source": [
    "DB_NAME = 'knights'\n",
    "config = {\n",
    "    'user':'root',\n",
    "    'password':'root',\n",
    "    'host':'db',\n",
    "    'port':'3306',\n",
    "    'database':DB_NAME\n",
    "}"
   ]
  },
  {
   "cell_type": "code",
   "execution_count": 42,
   "id": "003f5da7-303d-431d-8942-aa9f779e88a6",
   "metadata": {},
   "outputs": [],
   "source": [
    "connection = mysql.connector.connect(**config)\n",
    "cursor = connection.cursor()"
   ]
  },
  {
   "cell_type": "code",
   "execution_count": 40,
   "id": "f004e780-505d-4d7e-9a5d-e00a19a2b59c",
   "metadata": {},
   "outputs": [],
   "source": [
    "\n",
    "TABLES = {}\n",
    "TABLES['positions'] = (\n",
    "    \"CREATE TABLE `positions` (\"\n",
    "    \"  `id` int(11) NOT NULL AUTO_INCREMENT,\"\n",
    "    \"  `x` int DEFAULT 0,\"\n",
    "    \"  `y` int DEFAULT 0,\"\n",
    "    \"  `z` int DEFAULT 0,\"\n",
    "    \"  PRIMARY KEY (`id`)\"\n",
    "    \") ENGINE=InnoDB\")\n",
    "\n",
    "TABLES['tiles'] = (\n",
    "    \"CREATE TABLE `tiles` (\"\n",
    "    \"  `x` int NOT NULL,\"\n",
    "    \"  `y` int NOT NULL,\"\n",
    "    \"  `type_id` int(11) NOT NULL,\"\n",
    "    \"  PRIMARY KEY (`x`,`y`)\"\n",
    "    \") ENGINE=InnoDB\")\n",
    "\n",
    "TABLES['tile_types'] = (\n",
    "    \"CREATE TABLE `tile_types` (\"\n",
    "    \"  `id` int(11) NOT NULL AUTO_INCREMENT,\"\n",
    "    \"  `name` varchar(50),\"\n",
    "    \"  `min` int(11), \"\n",
    "    \"  `max` int(11), \"\n",
    "    \"  `data` JSON,\"\n",
    "    \"  PRIMARY KEY (`id`)\"\n",
    "    \") ENGINE=InnoDB\")\n",
    "\n",
    "TABLES['params'] = (\n",
    "    \"CREATE TABLE `params` (\"\n",
    "    \"  `name` varchar(50) NOT NULL,\"\n",
    "    \"  `value` varchar(1000) NOT NULL,\"\n",
    "    \"  PRIMARY KEY (`name`)\"\n",
    "    \") ENGINE=InnoDB\")\n",
    "\n",
    "TABLES['world_state'] = (\n",
    "    \"CREATE TABLE `world_state` (\"\n",
    "    \"  `name` varchar(50) NOT NULL,\"\n",
    "    \"  `value` varchar(1000) NOT NULL,\"\n",
    "    \"  PRIMARY KEY (`name`)\"\n",
    "    \") ENGINE=InnoDB\")\n",
    "       "
   ]
  },
  {
   "cell_type": "code",
   "execution_count": 39,
   "id": "139e0b05-0517-4474-a1ea-1895ad04b49c",
   "metadata": {},
   "outputs": [],
   "source": [
    "db.exec('DROP TABLE tiles;')\n",
    "#dfQuery('DROP TABLE world_state;')"
   ]
  },
  {
   "cell_type": "code",
   "execution_count": 5,
   "id": "5621c73d-ed70-45b3-b463-929981c7ea17",
   "metadata": {},
   "outputs": [
    {
     "name": "stdout",
     "output_type": "stream",
     "text": [
      "Database knights does not exists.\n",
      "Database knights created successfully.\n"
     ]
    }
   ],
   "source": [
    "def create_database(cursor):\n",
    "    try:\n",
    "        cursor.execute(\n",
    "            \"CREATE DATABASE {} DEFAULT CHARACTER SET 'utf8'\".format(DB_NAME))\n",
    "    except mysql.connector.Error as err:\n",
    "        print(\"Failed creating database: {}\".format(err))\n",
    "        exit(1)\n",
    "\n",
    "try:\n",
    "    cursor.execute(\"USE {}\".format(DB_NAME))\n",
    "except mysql.connector.Error as err:\n",
    "    print(\"Database {} does not exists.\".format(DB_NAME))\n",
    "    if err.errno == errorcode.ER_BAD_DB_ERROR:\n",
    "        create_database(cursor)\n",
    "        print(\"Database {} created successfully.\".format(DB_NAME))\n",
    "        connection.database = DB_NAME\n",
    "    else:\n",
    "        print(err)\n",
    "        exit(1)"
   ]
  },
  {
   "cell_type": "code",
   "execution_count": 44,
   "id": "13f13c43-a56b-42b2-b37d-d20ba8234875",
   "metadata": {},
   "outputs": [
    {
     "name": "stdout",
     "output_type": "stream",
     "text": [
      "Creating table positions: already exists.\n",
      "Creating table tiles: OK\n",
      "Creating table tile_types: already exists.\n",
      "Creating table params: already exists.\n",
      "Creating table world_state: already exists.\n"
     ]
    }
   ],
   "source": [
    "for table_name in TABLES:\n",
    "    table_description = TABLES[table_name]\n",
    "    try:\n",
    "        print(\"Creating table {}: \".format(table_name), end='')\n",
    "        cursor.execute(table_description)\n",
    "    except mysql.connector.Error as err:\n",
    "        if err.errno == errorcode.ER_TABLE_EXISTS_ERROR:\n",
    "            print(\"already exists.\")\n",
    "        else:\n",
    "            print(err.msg)\n",
    "    else:\n",
    "        print(\"OK\")\n"
   ]
  },
  {
   "cell_type": "code",
   "execution_count": 14,
   "id": "28750e7b-9837-4d8b-a448-17b902da63b8",
   "metadata": {},
   "outputs": [],
   "source": [
    "def dfQuery(q):\n",
    "    cursor = connection.cursor()\n",
    "    cursor.execute(q)\n",
    "    rows = cursor.fetchall()\n",
    "    return rows\n"
   ]
  },
  {
   "cell_type": "code",
   "execution_count": 15,
   "id": "60f21dc5-d162-46ee-9ceb-b565f8175936",
   "metadata": {},
   "outputs": [
    {
     "data": {
      "text/plain": [
       "[]"
      ]
     },
     "execution_count": 15,
     "metadata": {},
     "output_type": "execute_result"
    }
   ],
   "source": [
    "dfQuery('select * from tile_types;')"
   ]
  },
  {
   "cell_type": "code",
   "execution_count": 16,
   "id": "e22af464-72c4-4df3-8fb5-98e3fcf368de",
   "metadata": {},
   "outputs": [
    {
     "data": {
      "text/plain": [
       "[]"
      ]
     },
     "execution_count": 16,
     "metadata": {},
     "output_type": "execute_result"
    }
   ],
   "source": [
    "dfQuery(\"INSERT INTO tile_types (name,min,max) VALUES ('water',0,50);\")\n",
    "dfQuery(\"INSERT INTO tile_types (name,min,max) VALUES ('sand',51,75);\")\n",
    "dfQuery(\"INSERT INTO tile_types (name,min,max) VALUES ('rock',76,100);\")\n",
    "dfQuery(\"INSERT INTO tile_types (name,min,max) VALUES ('gold',100,110);\")\n",
    "dfQuery(\"INSERT INTO tile_types (name,min,max) VALUES ('dirt',111,150);\")\n",
    "dfQuery(\"INSERT INTO tile_types (name,min,max) VALUES ('grass',151,225);\")\n",
    "dfQuery(\"INSERT INTO tile_types (name,min,max) VALUES ('lavarock',226,240);\")\n",
    "dfQuery(\"INSERT INTO tile_types (name,min,max) VALUES ('lava',241,255);\")"
   ]
  },
  {
   "cell_type": "code",
   "execution_count": 17,
   "id": "1d3bb39f-4dd3-42ce-82f9-bff625068d53",
   "metadata": {},
   "outputs": [
    {
     "data": {
      "text/plain": [
       "[]"
      ]
     },
     "execution_count": 17,
     "metadata": {},
     "output_type": "execute_result"
    }
   ],
   "source": [
    "dfQuery(\"UPDATE tile_types SET data = JSON_SET(COALESCE(data, '{}'), '$.\\\"background-color\\\"', 'blue') WHERE name='water';\")\n",
    "dfQuery(\"UPDATE tile_types SET data = JSON_SET(COALESCE(data, '{}'), '$.\\\"background-color\\\"', 'yellow') WHERE name='sand';\")\n",
    "dfQuery(\"UPDATE tile_types SET data = JSON_SET(COALESCE(data, '{}'), '$.\\\"background-color\\\"', 'gray') WHERE name='rock';\")\n",
    "dfQuery(\"UPDATE tile_types SET data = JSON_SET(COALESCE(data, '{}'), '$.\\\"background-color\\\"', 'gold') WHERE name='gold';\")\n",
    "dfQuery(\"UPDATE tile_types SET data = JSON_SET(COALESCE(data, '{}'), '$.\\\"background-color\\\"', 'brown') WHERE name='dirt';\")\n",
    "dfQuery(\"UPDATE tile_types SET data = JSON_SET(COALESCE(data, '{}'), '$.\\\"background-color\\\"', 'green') WHERE name='grass';\")\n",
    "dfQuery(\"UPDATE tile_types SET data = JSON_SET(COALESCE(data, '{}'), '$.\\\"background-color\\\"', 'black') WHERE name='lavarock';\")\n",
    "dfQuery(\"UPDATE tile_types SET data = JSON_SET(COALESCE(data, '{}'), '$.\\\"background-color\\\"', 'red') WHERE name='lava';\")"
   ]
  },
  {
   "cell_type": "code",
   "execution_count": 63,
   "id": "79c35120-1e52-4061-be04-50c79d2050bf",
   "metadata": {},
   "outputs": [
    {
     "data": {
      "text/plain": [
       "[]"
      ]
     },
     "execution_count": 63,
     "metadata": {},
     "output_type": "execute_result"
    }
   ],
   "source": [
    "dfQuery(\"update tile_types set data = JSON_remove(data,'$.\\\"backgroundcolor\\\"');\")"
   ]
  },
  {
   "cell_type": "code",
   "execution_count": 23,
   "id": "317a29d0-9fa0-495b-9963-06de6ae1c1c7",
   "metadata": {},
   "outputs": [],
   "source": [
    "cursor.execute('drop table tile_types')"
   ]
  },
  {
   "cell_type": "code",
   "execution_count": null,
   "id": "afba9fd9-c992-4700-a0e4-bde865401642",
   "metadata": {},
   "outputs": [],
   "source": [
    "cursor.close()\n",
    "connection.close()"
   ]
  },
  {
   "cell_type": "code",
   "execution_count": 3,
   "id": "4c81956e-848d-499e-90b0-4c1f15510e08",
   "metadata": {},
   "outputs": [],
   "source": [
    "db = DB()"
   ]
  },
  {
   "cell_type": "code",
   "execution_count": 33,
   "id": "78f42696-7f14-4c34-aee3-6baeb19edcd8",
   "metadata": {},
   "outputs": [
    {
     "data": {
      "text/plain": [
       "[('name', 'varchar(50)', 'NO', 'PRI', None, ''),\n",
       " ('value', 'varchar(1000)', 'NO', '', None, '')]"
      ]
     },
     "execution_count": 33,
     "metadata": {},
     "output_type": "execute_result"
    }
   ],
   "source": [
    "db.query('describe params')"
   ]
  },
  {
   "cell_type": "code",
   "execution_count": 37,
   "id": "48cafb8c-7af1-45ec-b34d-16ec2b381daf",
   "metadata": {},
   "outputs": [
    {
     "data": {
      "text/plain": [
       "[('ZoneSize', '100')]"
      ]
     },
     "execution_count": 37,
     "metadata": {},
     "output_type": "execute_result"
    }
   ],
   "source": [
    "db.query('select * from params')"
   ]
  },
  {
   "cell_type": "code",
   "execution_count": 5,
   "id": "0c0d8087-c284-40d5-8fa1-ef82e639d3dc",
   "metadata": {},
   "outputs": [],
   "source": [
    "#name = 'ZoneSize'\n",
    "#value = 100\n",
    "#db.exec(f\"insert into params (name,value) values ('{name}','{value}');\")\n",
    "db.setParameter('ZoneSize','500')\n",
    "db.setParameter('StartingCoordinates','250,250')"
   ]
  },
  {
   "cell_type": "code",
   "execution_count": 4,
   "id": "25c2edad-b156-4935-b02a-bd66c72b2d3f",
   "metadata": {},
   "outputs": [
    {
     "data": {
      "text/plain": [
       "'500'"
      ]
     },
     "execution_count": 4,
     "metadata": {},
     "output_type": "execute_result"
    }
   ],
   "source": [
    "db.getParameter('ZoneSize')"
   ]
  },
  {
   "cell_type": "code",
   "execution_count": 6,
   "id": "1ac54cca-25bf-4860-9323-9f9936e35757",
   "metadata": {},
   "outputs": [
    {
     "data": {
      "text/plain": [
       "'250,250'"
      ]
     },
     "execution_count": 6,
     "metadata": {},
     "output_type": "execute_result"
    }
   ],
   "source": [
    "db.getParameter('StartingCoordinates')"
   ]
  },
  {
   "cell_type": "code",
   "execution_count": null,
   "id": "ac332cad-c072-4cb9-aa7f-1976993da795",
   "metadata": {},
   "outputs": [],
   "source": []
  }
 ],
 "metadata": {
  "kernelspec": {
   "display_name": "Python 3 (ipykernel)",
   "language": "python",
   "name": "python3"
  },
  "language_info": {
   "codemirror_mode": {
    "name": "ipython",
    "version": 3
   },
   "file_extension": ".py",
   "mimetype": "text/x-python",
   "name": "python",
   "nbconvert_exporter": "python",
   "pygments_lexer": "ipython3",
   "version": "3.9.7"
  }
 },
 "nbformat": 4,
 "nbformat_minor": 5
}
