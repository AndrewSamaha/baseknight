{
 "cells": [
  {
   "cell_type": "code",
   "execution_count": null,
   "id": "d602f69c-aeac-4f9d-adac-b86dda375d42",
   "metadata": {},
   "outputs": [],
   "source": [
    "%reload_ext autoreload\n",
    "%autoreload 2\n",
    "from importlib import reload\n",
    "import mysql.connector\n",
    "from mysql.connector import errorcode\n",
    "import matplotlib.pyplot as plt\n",
    "from matplotlib import cm\n",
    "from matplotlib.ticker import LinearLocator\n",
    "\n",
    "import numpy as np\n",
    "import math\n",
    "from PIL import Image as im\n",
    "import random\n",
    "from sklearn.preprocessing import MinMaxScaler\n",
    "from sklearn.preprocessing import StandardScaler\n",
    "import scipy.stats as stats\n",
    "\n",
    "from src.db import DB\n",
    "from src.generator import TerrainGenerator\n",
    "from src.world import WorldServer"
   ]
  },
  {
   "cell_type": "code",
   "execution_count": null,
   "id": "2062e53c-c3af-4943-b006-511005acd959",
   "metadata": {},
   "outputs": [],
   "source": [
    "db = DB()\n",
    "tg = TerrainGenerator(db)\n",
    "ws = WorldServer(db, tg) "
   ]
  },
  {
   "cell_type": "code",
   "execution_count": 1,
   "id": "22310e5d-f471-4013-8926-f4aca32ba381",
   "metadata": {},
   "outputs": [
    {
     "ename": "NameError",
     "evalue": "name 'ws' is not defined",
     "output_type": "error",
     "traceback": [
      "\u001b[0;31m---------------------------------------------------------------------------\u001b[0m",
      "\u001b[0;31mNameError\u001b[0m                                 Traceback (most recent call last)",
      "\u001b[0;32m/tmp/ipykernel_233/8484885.py\u001b[0m in \u001b[0;36m<module>\u001b[0;34m\u001b[0m\n\u001b[0;32m----> 1\u001b[0;31m \u001b[0mws\u001b[0m\u001b[0;34m.\u001b[0m\u001b[0mgetChunk\u001b[0m\u001b[0;34m(\u001b[0m\u001b[0;36m20\u001b[0m\u001b[0;34m,\u001b[0m\u001b[0;36m20\u001b[0m\u001b[0;34m)\u001b[0m \u001b[0;31m#,radius=15, generateMissing=True)\u001b[0m\u001b[0;34m\u001b[0m\u001b[0;34m\u001b[0m\u001b[0m\n\u001b[0m\u001b[1;32m      2\u001b[0m \u001b[0;31m# should return nothing if world hasn't been generated\u001b[0m\u001b[0;34m\u001b[0m\u001b[0;34m\u001b[0m\u001b[0m\n",
      "\u001b[0;31mNameError\u001b[0m: name 'ws' is not defined"
     ]
    }
   ],
   "source": [
    "ws.getChunk(20,20) #,radius=15, generateMissing=True)\n",
    "# should return nothing if world hasn't been generated"
   ]
  },
  {
   "cell_type": "code",
   "execution_count": null,
   "id": "ef4b10dd-269d-4050-91c3-ae56c34d4d0c",
   "metadata": {},
   "outputs": [],
   "source": [
    "tg.getZone(150,150)"
   ]
  },
  {
   "cell_type": "code",
   "execution_count": null,
   "id": "449d2de1-7e9b-4344-b93b-bdc274f129f5",
   "metadata": {},
   "outputs": [],
   "source": [
    "startingCoordinates = db.getParameter('StartingCoordinates')\n",
    "(startx, starty) = startingCoordinates = startingCoordinates.split(',')\n",
    "(startx, starty)"
   ]
  },
  {
   "cell_type": "code",
   "execution_count": null,
   "id": "1314119f-7de2-4d5e-a348-f765eebc5658",
   "metadata": {},
   "outputs": [],
   "source": [
    "%time\n",
    "tg.generateTerrainNearPoint(int(startx),int(starty))"
   ]
  },
  {
   "cell_type": "code",
   "execution_count": null,
   "id": "4515b1b9-b32d-4d9a-a2c1-7aa579aea883",
   "metadata": {},
   "outputs": [],
   "source": [
    "tg.db.connection.commit()"
   ]
  }
 ],
 "metadata": {
  "kernelspec": {
   "display_name": "Python 3 (ipykernel)",
   "language": "python",
   "name": "python3"
  },
  "language_info": {
   "codemirror_mode": {
    "name": "ipython",
    "version": 3
   },
   "file_extension": ".py",
   "mimetype": "text/x-python",
   "name": "python",
   "nbconvert_exporter": "python",
   "pygments_lexer": "ipython3",
   "version": "3.9.7"
  }
 },
 "nbformat": 4,
 "nbformat_minor": 5
}
