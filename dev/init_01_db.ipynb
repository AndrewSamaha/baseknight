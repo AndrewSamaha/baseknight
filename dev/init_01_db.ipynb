{
 "cells": [
  {
   "cell_type": "code",
   "execution_count": 1,
   "id": "e474abe4-beb9-4f04-890b-a4f214857088",
   "metadata": {},
   "outputs": [
    {
     "name": "stdout",
     "output_type": "stream",
     "text": [
      "Requirement already satisfied: mysql-connector-python in /opt/conda/lib/python3.9/site-packages (8.0.27)\n",
      "Requirement already satisfied: protobuf>=3.0.0 in /opt/conda/lib/python3.9/site-packages (from mysql-connector-python) (3.18.1)\n"
     ]
    }
   ],
   "source": [
    "!pip install mysql-connector-python"
   ]
  },
  {
   "cell_type": "code",
   "execution_count": 2,
   "id": "48790c67-39ec-4c4c-b846-dcc18a442de9",
   "metadata": {},
   "outputs": [],
   "source": [
    "%reload_ext autoreload\n",
    "%autoreload 2\n",
    "from importlib import reload\n",
    "import mysql.connector\n",
    "from mysql.connector import errorcode\n",
    "from src.db import DB"
   ]
  },
  {
   "cell_type": "code",
   "execution_count": 3,
   "id": "a78d69e3-9e07-414a-9471-7d415affe99e",
   "metadata": {},
   "outputs": [],
   "source": [
    "DB_NAME = 'knights'\n",
    "config = {\n",
    "    'user':'root',\n",
    "    'password':'root',\n",
    "    'host':'db',\n",
    "    'port':'3306',\n",
    "    'database':DB_NAME\n",
    "}"
   ]
  },
  {
   "cell_type": "code",
   "execution_count": 4,
   "id": "96853bbc-19a2-49bf-8244-f8abf14628e4",
   "metadata": {},
   "outputs": [],
   "source": [
    "connection = mysql.connector.connect(**config)\n",
    "cursor = connection.cursor()\n",
    "def create_database(cursor):\n",
    "    try:\n",
    "        cursor.execute(\n",
    "            \"CREATE DATABASE {} DEFAULT CHARACTER SET 'utf8'\".format(DB_NAME))\n",
    "    except mysql.connector.Error as err:\n",
    "        print(\"Failed creating database: {}\".format(err))\n",
    "        exit(1)\n",
    "\n",
    "try:\n",
    "    cursor.execute(\"USE {}\".format(DB_NAME))\n",
    "except mysql.connector.Error as err:\n",
    "    print(\"Database {} does not exists.\".format(DB_NAME))\n",
    "    if err.errno == errorcode.ER_BAD_DB_ERROR:\n",
    "        create_database(cursor)\n",
    "        print(\"Database {} created successfully.\".format(DB_NAME))\n",
    "        connection.database = DB_NAME\n",
    "    else:\n",
    "        print(err)\n",
    "        exit(1)"
   ]
  },
  {
   "cell_type": "code",
   "execution_count": 5,
   "id": "a88c3f3b-43d5-401f-87c2-e96771746d88",
   "metadata": {},
   "outputs": [],
   "source": [
    "TABLES = {}\n",
    "TABLES['positions'] = (\n",
    "    \"CREATE TABLE `positions` (\"\n",
    "    \"  `id` int(11) NOT NULL AUTO_INCREMENT,\"\n",
    "    \"  `x` int DEFAULT 0,\"\n",
    "    \"  `y` int DEFAULT 0,\"\n",
    "    \"  `z` int DEFAULT 0,\"\n",
    "    \"  PRIMARY KEY (`id`)\"\n",
    "    \") ENGINE=InnoDB\")\n",
    "\n",
    "TABLES['tiles'] = (\n",
    "    \"CREATE TABLE `tiles` (\"\n",
    "    \"  `x` int NOT NULL,\"\n",
    "    \"  `y` int NOT NULL,\"\n",
    "    \"  `type_id` int(11) NOT NULL,\"\n",
    "    \"  PRIMARY KEY (`x`,`y`)\"\n",
    "    \") ENGINE=InnoDB\")\n",
    "\n",
    "TABLES['tile_types'] = (\n",
    "    \"CREATE TABLE `tile_types` (\"\n",
    "    \"  `id` int(11) NOT NULL AUTO_INCREMENT,\"\n",
    "    \"  `name` varchar(50),\"\n",
    "    \"  `min` int(11), \"\n",
    "    \"  `max` int(11), \"\n",
    "    \"  `data` JSON,\"\n",
    "    \"  PRIMARY KEY (`id`)\"\n",
    "    \") ENGINE=InnoDB\")\n",
    "\n",
    "TABLES['params'] = (\n",
    "    \"CREATE TABLE `params` (\"\n",
    "    \"  `name` varchar(50) NOT NULL,\"\n",
    "    \"  `value` varchar(1000) NOT NULL,\"\n",
    "    \"  PRIMARY KEY (`name`)\"\n",
    "    \") ENGINE=InnoDB\")\n",
    "\n",
    "TABLES['world_state'] = (\n",
    "    \"CREATE TABLE `world_state` (\"\n",
    "    \"  `name` varchar(50) NOT NULL,\"\n",
    "    \"  `value` varchar(1000) NOT NULL,\"\n",
    "    \"  PRIMARY KEY (`name`)\"\n",
    "    \") ENGINE=InnoDB\")\n",
    "       "
   ]
  },
  {
   "cell_type": "code",
   "execution_count": 6,
   "id": "6f4075de-53c3-4c4a-a456-d5c6818c35d5",
   "metadata": {},
   "outputs": [
    {
     "name": "stdout",
     "output_type": "stream",
     "text": [
      "Creating table positions: already exists.\n",
      "Creating table tiles: already exists.\n",
      "Creating table tile_types: already exists.\n",
      "Creating table params: already exists.\n",
      "Creating table world_state: already exists.\n"
     ]
    }
   ],
   "source": [
    "for table_name in TABLES:\n",
    "    table_description = TABLES[table_name]\n",
    "    try:\n",
    "        print(\"Creating table {}: \".format(table_name), end='')\n",
    "        cursor.execute(table_description)\n",
    "    except mysql.connector.Error as err:\n",
    "        if err.errno == errorcode.ER_TABLE_EXISTS_ERROR:\n",
    "            print(\"already exists.\")\n",
    "        else:\n",
    "            print(err.msg)\n",
    "    else:\n",
    "        print(\"OK\")"
   ]
  },
  {
   "cell_type": "code",
   "execution_count": 7,
   "id": "36f6eba8-045f-4982-ad47-52b80b62a30c",
   "metadata": {},
   "outputs": [],
   "source": [
    "def dfQuery(q):\n",
    "    cursor = connection.cursor()\n",
    "    cursor.execute(q)\n",
    "    rows = cursor.fetchall()\n",
    "    return rows"
   ]
  },
  {
   "cell_type": "code",
   "execution_count": 8,
   "id": "6e4fa541-d1f5-4462-a5d4-8130ae93fc2f",
   "metadata": {},
   "outputs": [
    {
     "data": {
      "text/plain": [
       "[]"
      ]
     },
     "execution_count": 8,
     "metadata": {},
     "output_type": "execute_result"
    }
   ],
   "source": [
    "dfQuery('select * from tile_types;')"
   ]
  },
  {
   "cell_type": "code",
   "execution_count": 9,
   "id": "314d474e-b425-43c8-b296-326c0ab08813",
   "metadata": {},
   "outputs": [
    {
     "data": {
      "text/plain": [
       "[]"
      ]
     },
     "execution_count": 9,
     "metadata": {},
     "output_type": "execute_result"
    }
   ],
   "source": [
    "dfQuery(\"INSERT INTO tile_types (name,min,max) VALUES ('water',0,50);\")\n",
    "dfQuery(\"INSERT INTO tile_types (name,min,max) VALUES ('sand',51,75);\")\n",
    "dfQuery(\"INSERT INTO tile_types (name,min,max) VALUES ('rock',76,100);\")\n",
    "dfQuery(\"INSERT INTO tile_types (name,min,max) VALUES ('gold',100,110);\")\n",
    "dfQuery(\"INSERT INTO tile_types (name,min,max) VALUES ('dirt',111,150);\")\n",
    "dfQuery(\"INSERT INTO tile_types (name,min,max) VALUES ('grass',151,225);\")\n",
    "dfQuery(\"INSERT INTO tile_types (name,min,max) VALUES ('lavarock',226,240);\")\n",
    "dfQuery(\"INSERT INTO tile_types (name,min,max) VALUES ('lava',241,255);\")"
   ]
  },
  {
   "cell_type": "code",
   "execution_count": 10,
   "id": "650c1865-2f98-400f-9beb-500d4d156b92",
   "metadata": {},
   "outputs": [
    {
     "data": {
      "text/plain": [
       "[]"
      ]
     },
     "execution_count": 10,
     "metadata": {},
     "output_type": "execute_result"
    }
   ],
   "source": [
    "dfQuery(\"UPDATE tile_types SET data = JSON_SET(COALESCE(data, '{}'), '$.\\\"background-color\\\"', 'blue') WHERE name='water';\")\n",
    "dfQuery(\"UPDATE tile_types SET data = JSON_SET(COALESCE(data, '{}'), '$.\\\"background-color\\\"', 'yellow') WHERE name='sand';\")\n",
    "dfQuery(\"UPDATE tile_types SET data = JSON_SET(COALESCE(data, '{}'), '$.\\\"background-color\\\"', 'gray') WHERE name='rock';\")\n",
    "dfQuery(\"UPDATE tile_types SET data = JSON_SET(COALESCE(data, '{}'), '$.\\\"background-color\\\"', 'gold') WHERE name='gold';\")\n",
    "dfQuery(\"UPDATE tile_types SET data = JSON_SET(COALESCE(data, '{}'), '$.\\\"background-color\\\"', 'brown') WHERE name='dirt';\")\n",
    "dfQuery(\"UPDATE tile_types SET data = JSON_SET(COALESCE(data, '{}'), '$.\\\"background-color\\\"', 'green') WHERE name='grass';\")\n",
    "dfQuery(\"UPDATE tile_types SET data = JSON_SET(COALESCE(data, '{}'), '$.\\\"background-color\\\"', 'black') WHERE name='lavarock';\")\n",
    "dfQuery(\"UPDATE tile_types SET data = JSON_SET(COALESCE(data, '{}'), '$.\\\"background-color\\\"', 'red') WHERE name='lava';\")"
   ]
  },
  {
   "cell_type": "code",
   "execution_count": 11,
   "id": "e69c6cae-9ba3-421d-bf04-c9bdd844a3e5",
   "metadata": {},
   "outputs": [
    {
     "data": {
      "text/plain": [
       "[(1, 'water', 0, 50, '{\"background-color\": \"blue\"}'),\n",
       " (2, 'sand', 51, 75, '{\"background-color\": \"yellow\"}'),\n",
       " (3, 'rock', 76, 100, '{\"background-color\": \"gray\"}'),\n",
       " (4, 'gold', 100, 110, '{\"background-color\": \"gold\"}'),\n",
       " (5, 'dirt', 111, 150, '{\"background-color\": \"brown\"}'),\n",
       " (6, 'grass', 151, 225, '{\"background-color\": \"green\"}'),\n",
       " (7, 'lavarock', 226, 240, '{\"background-color\": \"black\"}'),\n",
       " (8, 'lava', 241, 255, '{\"background-color\": \"red\"}')]"
      ]
     },
     "execution_count": 11,
     "metadata": {},
     "output_type": "execute_result"
    }
   ],
   "source": [
    "dfQuery('select * from tile_types;')"
   ]
  },
  {
   "cell_type": "code",
   "execution_count": 12,
   "id": "aef14715-7d42-4c22-b2d0-dd717ce6abe5",
   "metadata": {},
   "outputs": [],
   "source": [
    "db = DB()"
   ]
  },
  {
   "cell_type": "code",
   "execution_count": 13,
   "id": "ca33a471-190e-431b-b761-61ebb49a41ff",
   "metadata": {},
   "outputs": [
    {
     "data": {
      "text/plain": [
       "[('name', 'varchar(50)', 'NO', 'PRI', None, ''),\n",
       " ('value', 'varchar(1000)', 'NO', '', None, '')]"
      ]
     },
     "execution_count": 13,
     "metadata": {},
     "output_type": "execute_result"
    }
   ],
   "source": [
    "db.query('describe params')"
   ]
  },
  {
   "cell_type": "code",
   "execution_count": 14,
   "id": "40bffa1f-2009-49a6-9c37-0c9978f6d33e",
   "metadata": {},
   "outputs": [
    {
     "data": {
      "text/plain": [
       "[('StartingCoordinates', '250,250'), ('ZoneSize', '500')]"
      ]
     },
     "execution_count": 14,
     "metadata": {},
     "output_type": "execute_result"
    }
   ],
   "source": [
    "db.query('select * from params')"
   ]
  },
  {
   "cell_type": "code",
   "execution_count": 15,
   "id": "dea863fd-afd9-4de3-88c1-f0e182eda1dc",
   "metadata": {},
   "outputs": [],
   "source": [
    "db.setParameter('ZoneSize','500')\n",
    "db.setParameter('StartingCoordinates','250,250')"
   ]
  },
  {
   "cell_type": "code",
   "execution_count": 16,
   "id": "8482ce44-5267-42af-a3a9-64273ed7f7e3",
   "metadata": {},
   "outputs": [
    {
     "data": {
      "text/plain": [
       "'500'"
      ]
     },
     "execution_count": 16,
     "metadata": {},
     "output_type": "execute_result"
    }
   ],
   "source": [
    "db.getParameter('ZoneSize')"
   ]
  },
  {
   "cell_type": "code",
   "execution_count": 17,
   "id": "855a07c8-71f6-48b0-9346-172cb1864ccc",
   "metadata": {},
   "outputs": [
    {
     "data": {
      "text/plain": [
       "'250,250'"
      ]
     },
     "execution_count": 17,
     "metadata": {},
     "output_type": "execute_result"
    }
   ],
   "source": [
    "db.getParameter('StartingCoordinates')"
   ]
  },
  {
   "cell_type": "code",
   "execution_count": null,
   "id": "ade16c24-e7e9-4a0d-bf23-2f031319f783",
   "metadata": {},
   "outputs": [],
   "source": []
  }
 ],
 "metadata": {
  "kernelspec": {
   "display_name": "Python 3 (ipykernel)",
   "language": "python",
   "name": "python3"
  },
  "language_info": {
   "codemirror_mode": {
    "name": "ipython",
    "version": 3
   },
   "file_extension": ".py",
   "mimetype": "text/x-python",
   "name": "python",
   "nbconvert_exporter": "python",
   "pygments_lexer": "ipython3",
   "version": "3.9.7"
  }
 },
 "nbformat": 4,
 "nbformat_minor": 5
}
