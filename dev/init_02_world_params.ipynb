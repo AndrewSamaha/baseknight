{
 "cells": [
  {
   "cell_type": "code",
   "execution_count": null,
   "id": "eec2f611-4cf0-418e-9da0-586a4a83f4e9",
   "metadata": {},
   "outputs": [],
   "source": [
    "#originally based on generative.ipynb\n",
    "#generates world parameters\n",
    "\n",
    "%reload_ext autoreload\n",
    "import matplotlib.pyplot as plt\n",
    "from matplotlib import cm\n",
    "from matplotlib.ticker import LinearLocator\n",
    "\n",
    "import numpy as np\n",
    "import math\n",
    "from PIL import Image as im\n",
    "import random\n",
    "from sklearn.preprocessing import MinMaxScaler\n",
    "from sklearn.preprocessing import StandardScaler\n",
    "import scipy.stats as stats\n",
    "from src.db import DB\n",
    "\n",
    "%autoreload 2\n",
    "db = DB()"
   ]
  },
  {
   "cell_type": "code",
   "execution_count": null,
   "id": "f744b43c-f83c-4072-a6b6-6a5a130fc3d8",
   "metadata": {},
   "outputs": [],
   "source": [
    "width = 500\n",
    "height = 500\n",
    "num_coeffs = 20\n",
    "\n",
    "def rand_coeff():\n",
    "    rmax = 1\n",
    "    m = 0 #- rmax\n",
    "    c = random.random() * rmax + m\n",
    "    return round(c,3)\n",
    "\n",
    "def rand_denomenator():\n",
    "    rmax = 200\n",
    "    m = 25\n",
    "    c = random.random() * rmax + m\n",
    "    return round(c,3)\n",
    "\n",
    "def rand_intercept():\n",
    "    rmax = 100\n",
    "    c = random.random() * rmax - rmax/2\n",
    "    return round(c,3)\n",
    "\n",
    "def get(x,y, coeffs, denom, intercept):\n",
    "    sum = 0\n",
    "    for i in range(0,num_coeffs*2,2):\n",
    "        sum += coeffs[i] * math.cos( x / denom[i] ) + intercept[i]\n",
    "        sum += coeffs[i+1] * math.cos( y / denom[i+1] ) + intercept[i+1]\n",
    "    return sum\n",
    "\n",
    "for _ in range(1):\n",
    "    coeffs = [ rand_coeff() for i in range(num_coeffs*2)]\n",
    "    denom = [ rand_denomenator() for i in range(num_coeffs*2)]\n",
    "    intercepts = [ rand_intercept() for i in range(num_coeffs*2)]\n",
    "    db.setWorldState('coeffs', \",\".join(str(x) for x in coeffs))\n",
    "    db.setWorldState('denom', \",\".join(str(x) for x in denom))\n",
    "    db.setWorldState('intercepts', \",\".join(str(x) for x in intercepts))\n",
    "    print(\",\".join(str(x) for x in coeffs))\n",
    "    print(\",\".join(str(x) for x in denom))\n",
    "    print(\",\".join(str(x) for x in intercepts))\n",
    "\n",
    "    array = np.zeros((width,height))\n",
    "    start = 0#random.randint(0,width)\n",
    "    for x in range(start,width+start):\n",
    "        for y in range(start,height+start):\n",
    "            array[y-start][x-start] = get(x+1,y+1, coeffs, denom, intercepts)\n",
    "    \n",
    "\n",
    "    if 1:\n",
    "        array = array.reshape(-1, 1) \n",
    "        scaler = MinMaxScaler()\n",
    "        array = scaler.fit_transform(array)\n",
    "        array = array * 255\n",
    "        array = array.astype(int)\n",
    "        array = array.reshape(width,height)\n",
    "        print(f\"scaler.get_params: {scaler.get_params()}\")\n",
    "\n",
    "    plt.imshow(array, cmap='viridis', interpolation='none')\n",
    "    plt.show()"
   ]
  },
  {
   "cell_type": "code",
   "execution_count": 1,
   "id": "7e7e37f8-e4e9-4f18-8a9a-a56fff649b5f",
   "metadata": {},
   "outputs": [
    {
     "ename": "NameError",
     "evalue": "name 'db' is not defined",
     "output_type": "error",
     "traceback": [
      "\u001b[0;31m---------------------------------------------------------------------------\u001b[0m",
      "\u001b[0;31mNameError\u001b[0m                                 Traceback (most recent call last)",
      "\u001b[0;32m/tmp/ipykernel_217/1178780120.py\u001b[0m in \u001b[0;36m<module>\u001b[0;34m\u001b[0m\n\u001b[0;32m----> 1\u001b[0;31m \u001b[0mdb\u001b[0m\u001b[0;34m.\u001b[0m\u001b[0mquery\u001b[0m\u001b[0;34m(\u001b[0m\u001b[0;34m'select * from world_state'\u001b[0m\u001b[0;34m)\u001b[0m\u001b[0;34m\u001b[0m\u001b[0;34m\u001b[0m\u001b[0m\n\u001b[0m",
      "\u001b[0;31mNameError\u001b[0m: name 'db' is not defined"
     ]
    }
   ],
   "source": [
    "db.query('select * from world_state')"
   ]
  },
  {
   "cell_type": "code",
   "execution_count": null,
   "id": "8996037b-8478-4f15-9fc1-5077402bf268",
   "metadata": {},
   "outputs": [],
   "source": []
  }
 ],
 "metadata": {
  "kernelspec": {
   "display_name": "Python 3 (ipykernel)",
   "language": "python",
   "name": "python3"
  },
  "language_info": {
   "codemirror_mode": {
    "name": "ipython",
    "version": 3
   },
   "file_extension": ".py",
   "mimetype": "text/x-python",
   "name": "python",
   "nbconvert_exporter": "python",
   "pygments_lexer": "ipython3",
   "version": "3.9.7"
  }
 },
 "nbformat": 4,
 "nbformat_minor": 5
}
